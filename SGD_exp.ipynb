{
 "cells": [
  {
   "cell_type": "code",
   "execution_count": null,
   "metadata": {},
   "outputs": [
    {
     "name": "stdout",
     "output_type": "stream",
     "text": [
      "reg = 1e-07\n",
      "==> Preparing data..\n",
      "Files already downloaded and verified\n",
      "Files already downloaded and verified\n",
      "\n",
      "Epoch: 0\n",
      "[Step=300]\tLoss=1.6236\tacc=0.4019\t1620.2 examples/second\n",
      "Test Loss=1.5680, Test acc=0.4685\n",
      "Saving...\n",
      "\n",
      "Epoch: 1\n",
      "[Step=600]\tLoss=1.1057\tacc=0.5985\t1818.5 examples/second\n",
      "Test Loss=1.0365, Test acc=0.6229\n",
      "Saving...\n",
      "reg = 1e-07\n",
      "==> Preparing data..\n",
      "Files already downloaded and verified\n",
      "Files already downloaded and verified\n",
      "\n",
      "Epoch: 0\n",
      "[Step=300]\tLoss=1.6990\tacc=0.3648\t1974.0 examples/second\n"
     ]
    }
   ],
   "source": [
    "from resnet20 import ResNetCIFAR\n",
    "from train_util import train, test, test2\n",
    "import torch\n",
    "import numpy as np\n",
    "import matplotlib.pyplot as pt\n",
    "device = 'cuda' if torch.cuda.is_available() else 'cpu'\n",
    "import pickle\n",
    "from math import sqrt\n",
    "\n",
    "method = 'SGD'\n",
    "lr = 0.1\n",
    "regs = np.linspace(-7, -3, num=5)\n",
    "regs = 10 ** regs\n",
    "epochs = 1800\n",
    "batch_size = 128\n",
    "# reg = reg_norm * \\sqrt{b / B T}\n",
    "ams = [False, True]\n",
    "for amsgrad in ams:\n",
    "    for reg in regs:\n",
    "        print(\"reg = {}\".format(reg))\n",
    "        net = ResNetCIFAR(num_layers=20)\n",
    "        net = net.to(device)\n",
    "        loss, acc = train(net,opt_method= method, epochs = epochs, batch_size = batch_size, \\\n",
    "                  lr = lr, reg = reg, amsgrad = amsgrad, log_every_n=300)\n",
    "        name = \"summary_stats/net_{0}_{1}_amsgrad_{2}_epoch_{3}\".format(method, int(reg * 1e7), amsgrad,epochs)\n",
    "        open_file = open(\"{0}.p\".format(name), \"wb\" )\n",
    "        pickle.dump([acc, loss], open_file)\n",
    "        open_file.close()"
   ]
  },
  {
   "cell_type": "code",
   "execution_count": null,
   "metadata": {},
   "outputs": [],
   "source": []
  }
 ],
 "metadata": {
  "kernelspec": {
   "display_name": "Python 3",
   "language": "python",
   "name": "python3"
  },
  "language_info": {
   "codemirror_mode": {
    "name": "ipython",
    "version": 3
   },
   "file_extension": ".py",
   "mimetype": "text/x-python",
   "name": "python",
   "nbconvert_exporter": "python",
   "pygments_lexer": "ipython3",
   "version": "3.7.6"
  }
 },
 "nbformat": 4,
 "nbformat_minor": 4
}
