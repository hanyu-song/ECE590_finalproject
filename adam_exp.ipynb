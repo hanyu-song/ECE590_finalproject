{
 "cells": [
  {
   "cell_type": "code",
   "execution_count": null,
   "metadata": {},
   "outputs": [],
   "source": [
    "from resnet20 import ResNetCIFAR\n",
    "from train_util import train, test, test2\n",
    "import torch\n",
    "import numpy as np\n",
    "import matplotlib.pyplot as pt\n",
    "device = 'cuda' if torch.cuda.is_available() else 'cpu'\n",
    "import pickle"
   ]
  },
  {
   "cell_type": "markdown",
   "metadata": {},
   "source": [
    "#### training the networks"
   ]
  },
  {
   "cell_type": "code",
   "execution_count": 2,
   "metadata": {
    "pycharm": {
     "is_executing": false,
     "name": "#%%\n"
    }
   },
   "outputs": [
    {
     "name": "stdout",
     "output_type": "stream",
     "text": [
      "reg = 1e-07\n",
      "==> Preparing data..\n",
      "Files already downloaded and verified\n",
      "Files already downloaded and verified\n",
      "\n",
      "Epoch: 0\n",
      "[Step=300]\tLoss=1.6173\tacc=0.4076\t1374.3 examples/second\n",
      "Test Loss=1.2622, Test acc=0.5535\n",
      "Saving...\n",
      "\n",
      "Epoch: 1\n",
      "[Step=600]\tLoss=1.1114\tacc=0.6015\t1694.4 examples/second\n",
      "Test Loss=1.1811, Test acc=0.5920\n",
      "Saving...\n",
      "reg = 1e-07\n",
      "==> Preparing data..\n",
      "Files already downloaded and verified\n",
      "Files already downloaded and verified\n",
      "\n",
      "Epoch: 0\n",
      "[Step=300]\tLoss=1.6433\tacc=0.3924\t1608.0 examples/second\n",
      "Test Loss=1.3032, Test acc=0.5380\n",
      "Saving...\n",
      "\n",
      "Epoch: 1\n",
      "[Step=600]\tLoss=1.1290\tacc=0.5949\t1670.3 examples/second\n",
      "Test Loss=0.9970, Test acc=0.6461\n",
      "Saving...\n"
     ]
    }
   ],
   "source": [
    "method = 'Adam'\n",
    "lr = 0.001\n",
    "regs = np.linspace(-7, -3, num=5)\n",
    "regs = 10 ** regs\n",
    "epochs = 1800\n",
    "batch_size = 128\n",
    "ams = [False, True]\n",
    "for amsgrad in ams:\n",
    "    for reg in regs:\n",
    "        print(\"reg = {}\".format(reg))\n",
    "        net = ResNetCIFAR(num_layers=20)\n",
    "        net = net.to(device)\n",
    "        loss, acc = train(net,opt_method= method, epochs = epochs, batch_size = batch_size, \\\n",
    "                  lr = lr, reg = reg, amsgrad = ams, log_every_n=300)\n",
    "        name = \"summary_stats/net_{0}_{1}_amsgrad_{2}_epoch_{3}\".format(method, int(reg * 1e7), amsgrad, epochs)\n",
    "        open_file = open(\"{0}.p\".format(name), \"wb\" )\n",
    "        pickle.dump([acc, loss], open_file)\n",
    "        open_file.close()\n",
    "    "
   ]
  },
  {
   "cell_type": "code",
   "execution_count": null,
   "metadata": {},
   "outputs": [],
   "source": []
  }
 ],
 "metadata": {
  "kernelspec": {
   "display_name": "Python 3",
   "language": "python",
   "name": "python3"
  },
  "language_info": {
   "codemirror_mode": {
    "name": "ipython",
    "version": 3
   },
   "file_extension": ".py",
   "mimetype": "text/x-python",
   "name": "python",
   "nbconvert_exporter": "python",
   "pygments_lexer": "ipython3",
   "version": "3.7.6"
  },
  "pycharm": {
   "stem_cell": {
    "cell_type": "raw",
    "metadata": {
     "collapsed": false
    },
    "source": []
   }
  }
 },
 "nbformat": 4,
 "nbformat_minor": 4
}
