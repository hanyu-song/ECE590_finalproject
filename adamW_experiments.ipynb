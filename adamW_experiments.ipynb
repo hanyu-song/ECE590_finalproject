{
 "cells": [
  {
   "cell_type": "code",
   "execution_count": 1,
   "metadata": {
    "pycharm": {
     "is_executing": false
    }
   },
   "outputs": [],
   "source": [
    "from resnet20 import ResNetCIFAR\n",
    "from train_util import train, test, test2\n",
    "import torch\n",
    "import numpy as np\n",
    "import matplotlib.pyplot as pt\n",
    "device = 'cuda' if torch.cuda.is_available() else 'cpu'\n",
    "import pickle\n",
    "from math import sqrt"
   ]
  },
  {
   "cell_type": "markdown",
   "metadata": {},
   "source": [
    "#### training the networks"
   ]
  },
  {
   "cell_type": "code",
   "execution_count": 2,
   "metadata": {
    "pycharm": {
     "is_executing": false,
     "name": "#%%\n"
    }
   },
   "outputs": [
    {
     "name": "stdout",
     "output_type": "stream",
     "text": [
      "reg = 0.00035777087639996636\n",
      "==> Preparing data..\n",
      "Files already downloaded and verified\n",
      "Files already downloaded and verified\n",
      "\n",
      "Epoch: 0\n",
      "[Step=300]\tLoss=1.5649\tacc=0.4266\t1628.6 examples/second\n",
      "Test Loss=1.2447, Test acc=0.5473\n",
      "Saving...\n",
      "\n",
      "Epoch: 1\n",
      "[Step=600]\tLoss=1.1171\tacc=0.5989\t1458.1 examples/second\n",
      "Test Loss=1.0038, Test acc=0.6526\n",
      "Saving...\n",
      "reg = 0.00035777087639996636\n",
      "==> Preparing data..\n",
      "Files already downloaded and verified\n",
      "Files already downloaded and verified\n",
      "\n",
      "Epoch: 0\n",
      "[Step=300]\tLoss=1.5279\tacc=0.4384\t1767.7 examples/second\n",
      "Test Loss=1.3866, Test acc=0.5286\n",
      "Saving...\n",
      "\n",
      "Epoch: 1\n",
      "[Step=600]\tLoss=1.0593\tacc=0.6194\t1444.7 examples/second\n",
      "Test Loss=1.0129, Test acc=0.6459\n",
      "Saving...\n"
     ]
    }
   ],
   "source": [
    "method = 'AdamW'\n",
    "lr = 0.001\n",
    "reg_norms = np.linspace(-6, -4.5, num=5)\n",
    "reg_norms = 10 ** (reg_norms + 4)\n",
    "epochs = 1800\n",
    "tot_train_size = 50000\n",
    "batch_size = 128\n",
    "# reg = reg_norm * \\sqrt{b / B T}\n",
    "ams = [False, True]\n",
    "for amsgrad in ams:\n",
    "    for reg_norm in reg_norms:\n",
    "        reg = reg_norm * sqrt(batch_size / epochs / tot_train_size)\n",
    "        print(\"reg = {}\".format(reg))\n",
    "        net = ResNetCIFAR(num_layers=20)\n",
    "        net = net.to(device)\n",
    "        loss, acc = train(net,opt_method= method, epochs = epochs, batch_size = batch_size, \\\n",
    "                  lr = lr, reg = reg, amsgrad = amsgrad, log_every_n=300)\n",
    "        name = \"summary_stats/net_{0}_{1}_amsgrad_{2}_epoch_{3}\".format(method, int(reg_norm * 1e7), amsgrad,epochs)\n",
    "        open_file = open(\"{0}.p\".format(name), \"wb\" )\n",
    "        pickle.dump([acc, loss], open_file)\n",
    "        open_file.close()\n"
   ]
  },
  {
   "cell_type": "code",
   "execution_count": null,
   "metadata": {},
   "outputs": [],
   "source": []
  }
 ],
 "metadata": {
  "kernelspec": {
   "display_name": "Python 3",
   "language": "python",
   "name": "python3"
  },
  "language_info": {
   "codemirror_mode": {
    "name": "ipython",
    "version": 3
   },
   "file_extension": ".py",
   "mimetype": "text/x-python",
   "name": "python",
   "nbconvert_exporter": "python",
   "pygments_lexer": "ipython3",
   "version": "3.7.6"
  },
  "pycharm": {
   "stem_cell": {
    "cell_type": "raw",
    "metadata": {
     "collapsed": false
    },
    "source": []
   }
  }
 },
 "nbformat": 4,
 "nbformat_minor": 4
}
